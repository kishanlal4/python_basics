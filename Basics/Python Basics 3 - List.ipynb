{
 "cells": [
  {
   "cell_type": "code",
   "execution_count": 1,
   "id": "280c8e3a",
   "metadata": {},
   "outputs": [],
   "source": [
    "l = [\"kish\", \"lal\", \"352\", 4+6j, True, 345.56]"
   ]
  },
  {
   "cell_type": "code",
   "execution_count": 2,
   "id": "4f68543d",
   "metadata": {},
   "outputs": [
    {
     "data": {
      "text/plain": [
       "list"
      ]
     },
     "execution_count": 2,
     "metadata": {},
     "output_type": "execute_result"
    }
   ],
   "source": [
    "type(l)"
   ]
  },
  {
   "cell_type": "code",
   "execution_count": 3,
   "id": "c3c5b270",
   "metadata": {},
   "outputs": [
    {
     "data": {
      "text/plain": [
       "'kish'"
      ]
     },
     "execution_count": 3,
     "metadata": {},
     "output_type": "execute_result"
    }
   ],
   "source": [
    "l[0]"
   ]
  },
  {
   "cell_type": "code",
   "execution_count": 4,
   "id": "0be30797",
   "metadata": {},
   "outputs": [
    {
     "data": {
      "text/plain": [
       "345.56"
      ]
     },
     "execution_count": 4,
     "metadata": {},
     "output_type": "execute_result"
    }
   ],
   "source": [
    "l[-1]"
   ]
  },
  {
   "cell_type": "code",
   "execution_count": 5,
   "id": "a2e3b05c",
   "metadata": {},
   "outputs": [
    {
     "data": {
      "text/plain": [
       "'lal'"
      ]
     },
     "execution_count": 5,
     "metadata": {},
     "output_type": "execute_result"
    }
   ],
   "source": [
    "l[-5]"
   ]
  },
  {
   "cell_type": "code",
   "execution_count": 6,
   "id": "70d1ac0d",
   "metadata": {},
   "outputs": [
    {
     "data": {
      "text/plain": [
       "['kish', 'lal', '352', (4+6j)]"
      ]
     },
     "execution_count": 6,
     "metadata": {},
     "output_type": "execute_result"
    }
   ],
   "source": [
    "l[0:4]"
   ]
  },
  {
   "cell_type": "code",
   "execution_count": 9,
   "id": "a0012d8f",
   "metadata": {},
   "outputs": [
    {
     "data": {
      "text/plain": [
       "[345.56, True, (4+6j), '352', 'lal', 'kish']"
      ]
     },
     "execution_count": 9,
     "metadata": {},
     "output_type": "execute_result"
    }
   ],
   "source": [
    "l[::-1]"
   ]
  },
  {
   "cell_type": "code",
   "execution_count": 10,
   "id": "491cc7c6",
   "metadata": {},
   "outputs": [
    {
     "data": {
      "text/plain": [
       "['kish', 'lal', '352', (4+6j), True, 345.56]"
      ]
     },
     "execution_count": 10,
     "metadata": {},
     "output_type": "execute_result"
    }
   ],
   "source": [
    "l[::]"
   ]
  },
  {
   "cell_type": "code",
   "execution_count": 11,
   "id": "207158e2",
   "metadata": {},
   "outputs": [
    {
     "data": {
      "text/plain": [
       "[345.56]"
      ]
     },
     "execution_count": 11,
     "metadata": {},
     "output_type": "execute_result"
    }
   ],
   "source": [
    "l[-1:6]"
   ]
  },
  {
   "cell_type": "code",
   "execution_count": 12,
   "id": "d3883a24",
   "metadata": {},
   "outputs": [
    {
     "data": {
      "text/plain": [
       "str"
      ]
     },
     "execution_count": 12,
     "metadata": {},
     "output_type": "execute_result"
    }
   ],
   "source": [
    "type(l[0])"
   ]
  },
  {
   "cell_type": "code",
   "execution_count": 13,
   "id": "fad33eee",
   "metadata": {},
   "outputs": [
    {
     "data": {
      "text/plain": [
       "bool"
      ]
     },
     "execution_count": 13,
     "metadata": {},
     "output_type": "execute_result"
    }
   ],
   "source": [
    "type(l[4])"
   ]
  },
  {
   "cell_type": "code",
   "execution_count": 14,
   "id": "2328c1b8",
   "metadata": {},
   "outputs": [
    {
     "data": {
      "text/plain": [
       "'i'"
      ]
     },
     "execution_count": 14,
     "metadata": {},
     "output_type": "execute_result"
    }
   ],
   "source": [
    "l[0][1]"
   ]
  },
  {
   "cell_type": "code",
   "execution_count": 15,
   "id": "4ae03173",
   "metadata": {},
   "outputs": [
    {
     "data": {
      "text/plain": [
       "(4+6j)"
      ]
     },
     "execution_count": 15,
     "metadata": {},
     "output_type": "execute_result"
    }
   ],
   "source": [
    "l[3]"
   ]
  },
  {
   "cell_type": "code",
   "execution_count": 16,
   "id": "2534fb6c",
   "metadata": {},
   "outputs": [
    {
     "data": {
      "text/plain": [
       "4.0"
      ]
     },
     "execution_count": 16,
     "metadata": {},
     "output_type": "execute_result"
    }
   ],
   "source": [
    "l[3].real"
   ]
  },
  {
   "cell_type": "code",
   "execution_count": 17,
   "id": "2f6a121e",
   "metadata": {},
   "outputs": [
    {
     "data": {
      "text/plain": [
       "6.0"
      ]
     },
     "execution_count": 17,
     "metadata": {},
     "output_type": "execute_result"
    }
   ],
   "source": [
    "l[3].imag"
   ]
  },
  {
   "cell_type": "code",
   "execution_count": 18,
   "id": "605285e3",
   "metadata": {},
   "outputs": [],
   "source": [
    "l1 = [\"kish\", \"lal\", 4562]\n",
    "l2= [\"xyz\",\"pqr\", 542.23]"
   ]
  },
  {
   "cell_type": "code",
   "execution_count": 19,
   "id": "04d52882",
   "metadata": {},
   "outputs": [
    {
     "data": {
      "text/plain": [
       "['kish', 'lal', 4562, 'xyz', 'pqr', 542.23]"
      ]
     },
     "execution_count": 19,
     "metadata": {},
     "output_type": "execute_result"
    }
   ],
   "source": [
    "l1+l2"
   ]
  },
  {
   "cell_type": "code",
   "execution_count": 20,
   "id": "aabe4402",
   "metadata": {},
   "outputs": [
    {
     "data": {
      "text/plain": [
       "['kish', 'lal', 4562, 'kish']"
      ]
     },
     "execution_count": 20,
     "metadata": {},
     "output_type": "execute_result"
    }
   ],
   "source": [
    "l1 + [\"kish\"]"
   ]
  },
  {
   "cell_type": "code",
   "execution_count": 22,
   "id": "e6fa1a5e",
   "metadata": {},
   "outputs": [
    {
     "data": {
      "text/plain": [
       "['kish', 'lal', 4562, 'kish', 'lal', 4562]"
      ]
     },
     "execution_count": 22,
     "metadata": {},
     "output_type": "execute_result"
    }
   ],
   "source": [
    "l1 *2"
   ]
  },
  {
   "cell_type": "code",
   "execution_count": 23,
   "id": "a7310b16",
   "metadata": {},
   "outputs": [
    {
     "data": {
      "text/plain": [
       "['kish', 'lal', 4562]"
      ]
     },
     "execution_count": 23,
     "metadata": {},
     "output_type": "execute_result"
    }
   ],
   "source": [
    "l1"
   ]
  },
  {
   "cell_type": "code",
   "execution_count": 27,
   "id": "a230ef78",
   "metadata": {},
   "outputs": [],
   "source": [
    "l1[0] = \"kishan\""
   ]
  },
  {
   "cell_type": "code",
   "execution_count": 28,
   "id": "4456902f",
   "metadata": {},
   "outputs": [
    {
     "data": {
      "text/plain": [
       "['kishan', 'lal', 4562]"
      ]
     },
     "execution_count": 28,
     "metadata": {},
     "output_type": "execute_result"
    }
   ],
   "source": [
    "l1"
   ]
  },
  {
   "cell_type": "code",
   "execution_count": 29,
   "id": "c0ad4edc",
   "metadata": {},
   "outputs": [
    {
     "data": {
      "text/plain": [
       "'lal'"
      ]
     },
     "execution_count": 29,
     "metadata": {},
     "output_type": "execute_result"
    }
   ],
   "source": [
    "l1[1]"
   ]
  },
  {
   "cell_type": "code",
   "execution_count": 31,
   "id": "2c6420f1",
   "metadata": {},
   "outputs": [
    {
     "data": {
      "text/plain": [
       "'l'"
      ]
     },
     "execution_count": 31,
     "metadata": {},
     "output_type": "execute_result"
    }
   ],
   "source": [
    "l1[1][0]"
   ]
  },
  {
   "cell_type": "code",
   "execution_count": 32,
   "id": "79e6c87c",
   "metadata": {},
   "outputs": [
    {
     "data": {
      "text/plain": [
       "3"
      ]
     },
     "execution_count": 32,
     "metadata": {},
     "output_type": "execute_result"
    }
   ],
   "source": [
    "len(l1)"
   ]
  },
  {
   "cell_type": "code",
   "execution_count": 33,
   "id": "29e4d406",
   "metadata": {},
   "outputs": [
    {
     "data": {
      "text/plain": [
       "True"
      ]
     },
     "execution_count": 33,
     "metadata": {},
     "output_type": "execute_result"
    }
   ],
   "source": [
    "\"kishan\" in l1"
   ]
  },
  {
   "cell_type": "code",
   "execution_count": 34,
   "id": "07a812e9",
   "metadata": {},
   "outputs": [
    {
     "data": {
      "text/plain": [
       "['xyz', 'pqr', 542.23]"
      ]
     },
     "execution_count": 34,
     "metadata": {},
     "output_type": "execute_result"
    }
   ],
   "source": [
    "l2"
   ]
  },
  {
   "cell_type": "code",
   "execution_count": 35,
   "id": "81f27566",
   "metadata": {},
   "outputs": [],
   "source": [
    "l2.append(\"kish\")"
   ]
  },
  {
   "cell_type": "code",
   "execution_count": 36,
   "id": "b2eef7e1",
   "metadata": {},
   "outputs": [
    {
     "data": {
      "text/plain": [
       "['xyz', 'pqr', 542.23, 'kish']"
      ]
     },
     "execution_count": 36,
     "metadata": {},
     "output_type": "execute_result"
    }
   ],
   "source": [
    "l2"
   ]
  },
  {
   "cell_type": "code",
   "execution_count": 37,
   "id": "017b6315",
   "metadata": {},
   "outputs": [
    {
     "data": {
      "text/plain": [
       "'kish'"
      ]
     },
     "execution_count": 37,
     "metadata": {},
     "output_type": "execute_result"
    }
   ],
   "source": [
    "l2.pop()"
   ]
  },
  {
   "cell_type": "code",
   "execution_count": 38,
   "id": "3284cc24",
   "metadata": {},
   "outputs": [
    {
     "data": {
      "text/plain": [
       "542.23"
      ]
     },
     "execution_count": 38,
     "metadata": {},
     "output_type": "execute_result"
    }
   ],
   "source": [
    "l2.pop(2)"
   ]
  },
  {
   "cell_type": "code",
   "execution_count": 39,
   "id": "e8ff4ae2",
   "metadata": {},
   "outputs": [
    {
     "data": {
      "text/plain": [
       "['xyz', 'pqr']"
      ]
     },
     "execution_count": 39,
     "metadata": {},
     "output_type": "execute_result"
    }
   ],
   "source": [
    "l2"
   ]
  },
  {
   "cell_type": "code",
   "execution_count": 40,
   "id": "e0f46714",
   "metadata": {},
   "outputs": [],
   "source": [
    "l2.append(54545)"
   ]
  },
  {
   "cell_type": "code",
   "execution_count": 41,
   "id": "1d104d3a",
   "metadata": {},
   "outputs": [
    {
     "data": {
      "text/plain": [
       "['xyz', 'pqr', 54545]"
      ]
     },
     "execution_count": 41,
     "metadata": {},
     "output_type": "execute_result"
    }
   ],
   "source": [
    "l2"
   ]
  },
  {
   "cell_type": "code",
   "execution_count": 42,
   "id": "8bee33f7",
   "metadata": {},
   "outputs": [],
   "source": [
    "l2.insert(1,\"ksjdh\")"
   ]
  },
  {
   "cell_type": "code",
   "execution_count": 43,
   "id": "bd46de27",
   "metadata": {},
   "outputs": [
    {
     "data": {
      "text/plain": [
       "['xyz', 'ksjdh', 'pqr', 54545]"
      ]
     },
     "execution_count": 43,
     "metadata": {},
     "output_type": "execute_result"
    }
   ],
   "source": [
    "l2"
   ]
  },
  {
   "cell_type": "code",
   "execution_count": 44,
   "id": "4516ef45",
   "metadata": {},
   "outputs": [],
   "source": [
    "l2.insert(3,[455,5,6,4])"
   ]
  },
  {
   "cell_type": "code",
   "execution_count": 45,
   "id": "0184601f",
   "metadata": {},
   "outputs": [
    {
     "data": {
      "text/plain": [
       "['xyz', 'ksjdh', 'pqr', [455, 5, 6, 4], 54545]"
      ]
     },
     "execution_count": 45,
     "metadata": {},
     "output_type": "execute_result"
    }
   ],
   "source": [
    "l2"
   ]
  },
  {
   "cell_type": "code",
   "execution_count": 46,
   "id": "d80e285b",
   "metadata": {},
   "outputs": [
    {
     "data": {
      "text/plain": [
       "[54545, [455, 5, 6, 4], 'pqr', 'ksjdh', 'xyz']"
      ]
     },
     "execution_count": 46,
     "metadata": {},
     "output_type": "execute_result"
    }
   ],
   "source": [
    "l2[::-1]"
   ]
  },
  {
   "cell_type": "code",
   "execution_count": 47,
   "id": "77c0ffd4",
   "metadata": {},
   "outputs": [
    {
     "data": {
      "text/plain": [
       "['xyz', 'ksjdh', 'pqr', [455, 5, 6, 4], 54545]"
      ]
     },
     "execution_count": 47,
     "metadata": {},
     "output_type": "execute_result"
    }
   ],
   "source": [
    "l2"
   ]
  },
  {
   "cell_type": "code",
   "execution_count": 48,
   "id": "97179a12",
   "metadata": {},
   "outputs": [],
   "source": [
    "l2.reverse()"
   ]
  },
  {
   "cell_type": "code",
   "execution_count": 49,
   "id": "32e2c334",
   "metadata": {},
   "outputs": [
    {
     "data": {
      "text/plain": [
       "[54545, [455, 5, 6, 4], 'pqr', 'ksjdh', 'xyz']"
      ]
     },
     "execution_count": 49,
     "metadata": {},
     "output_type": "execute_result"
    }
   ],
   "source": [
    "l2"
   ]
  },
  {
   "cell_type": "code",
   "execution_count": 50,
   "id": "4c85526d",
   "metadata": {},
   "outputs": [
    {
     "data": {
      "text/plain": [
       "['kishan', 'lal', 4562]"
      ]
     },
     "execution_count": 50,
     "metadata": {},
     "output_type": "execute_result"
    }
   ],
   "source": [
    "l1"
   ]
  },
  {
   "cell_type": "code",
   "execution_count": 51,
   "id": "44ab1849",
   "metadata": {},
   "outputs": [
    {
     "data": {
      "text/plain": [
       "[54545, [455, 5, 6, 4], 'pqr', 'ksjdh', 'xyz']"
      ]
     },
     "execution_count": 51,
     "metadata": {},
     "output_type": "execute_result"
    }
   ],
   "source": [
    "l2"
   ]
  },
  {
   "cell_type": "code",
   "execution_count": 52,
   "id": "04222318",
   "metadata": {},
   "outputs": [
    {
     "data": {
      "text/plain": [
       "5"
      ]
     },
     "execution_count": 52,
     "metadata": {},
     "output_type": "execute_result"
    }
   ],
   "source": [
    "l2[1][1]"
   ]
  },
  {
   "cell_type": "code",
   "execution_count": 53,
   "id": "6bb83da5",
   "metadata": {},
   "outputs": [
    {
     "data": {
      "text/plain": [
       "[455, 5]"
      ]
     },
     "execution_count": 53,
     "metadata": {},
     "output_type": "execute_result"
    }
   ],
   "source": [
    "l2[1][0:2]"
   ]
  },
  {
   "cell_type": "code",
   "execution_count": 54,
   "id": "e4b22a70",
   "metadata": {},
   "outputs": [
    {
     "data": {
      "text/plain": [
       "1"
      ]
     },
     "execution_count": 54,
     "metadata": {},
     "output_type": "execute_result"
    }
   ],
   "source": [
    "l2.count('xyz')"
   ]
  },
  {
   "cell_type": "code",
   "execution_count": 55,
   "id": "f00b2df3",
   "metadata": {},
   "outputs": [],
   "source": [
    "l2.append(\"sgsgsfg\")"
   ]
  },
  {
   "cell_type": "code",
   "execution_count": 56,
   "id": "bed8b3ae",
   "metadata": {},
   "outputs": [],
   "source": [
    "l2.append([3,8,9,6])"
   ]
  },
  {
   "cell_type": "code",
   "execution_count": 57,
   "id": "37844e19",
   "metadata": {},
   "outputs": [
    {
     "data": {
      "text/plain": [
       "[54545, [455, 5, 6, 4], 'pqr', 'ksjdh', 'xyz', 'sgsgsfg', [3, 8, 9, 6]]"
      ]
     },
     "execution_count": 57,
     "metadata": {},
     "output_type": "execute_result"
    }
   ],
   "source": [
    "l2"
   ]
  },
  {
   "cell_type": "code",
   "execution_count": 58,
   "id": "7d14b47f",
   "metadata": {},
   "outputs": [
    {
     "data": {
      "text/plain": [
       "['kishan', 'lal', 4562]"
      ]
     },
     "execution_count": 58,
     "metadata": {},
     "output_type": "execute_result"
    }
   ],
   "source": [
    "l1"
   ]
  },
  {
   "cell_type": "code",
   "execution_count": 59,
   "id": "96a9b45a",
   "metadata": {},
   "outputs": [],
   "source": [
    "l1.extend([2,3,\"sdfg\"])"
   ]
  },
  {
   "cell_type": "code",
   "execution_count": 60,
   "id": "7c4bd3c2",
   "metadata": {},
   "outputs": [
    {
     "data": {
      "text/plain": [
       "['kishan', 'lal', 4562, 2, 3, 'sdfg']"
      ]
     },
     "execution_count": 60,
     "metadata": {},
     "output_type": "execute_result"
    }
   ],
   "source": [
    "l1"
   ]
  },
  {
   "cell_type": "code",
   "execution_count": null,
   "id": "6b001e9f",
   "metadata": {},
   "outputs": [],
   "source": []
  }
 ],
 "metadata": {
  "kernelspec": {
   "display_name": "Python 3 (ipykernel)",
   "language": "python",
   "name": "python3"
  },
  "language_info": {
   "codemirror_mode": {
    "name": "ipython",
    "version": 3
   },
   "file_extension": ".py",
   "mimetype": "text/x-python",
   "name": "python",
   "nbconvert_exporter": "python",
   "pygments_lexer": "ipython3",
   "version": "3.11.4"
  }
 },
 "nbformat": 4,
 "nbformat_minor": 5
}
