{
 "cells": [
  {
   "cell_type": "code",
   "execution_count": 1,
   "id": "98a0e24f",
   "metadata": {},
   "outputs": [],
   "source": [
    "def test(a,b,c,d,e):\n",
    "    return a,b,c,d,e"
   ]
  },
  {
   "cell_type": "code",
   "execution_count": 2,
   "id": "8c287dc1",
   "metadata": {},
   "outputs": [
    {
     "data": {
      "text/plain": [
       "(64, 54, 52, 6, 4)"
      ]
     },
     "execution_count": 2,
     "metadata": {},
     "output_type": "execute_result"
    }
   ],
   "source": [
    "test(64,54,52,6,4)"
   ]
  },
  {
   "cell_type": "code",
   "execution_count": 3,
   "id": "2e487ad8",
   "metadata": {},
   "outputs": [],
   "source": [
    "def test1(*args):\n",
    "    return args"
   ]
  },
  {
   "cell_type": "code",
   "execution_count": 4,
   "id": "7a9d6536",
   "metadata": {},
   "outputs": [
    {
     "data": {
      "text/plain": [
       "(2, 3, 4, 5, 6, 7, 8, 9)"
      ]
     },
     "execution_count": 4,
     "metadata": {},
     "output_type": "execute_result"
    }
   ],
   "source": [
    "test1(2,3,4,5,6,7,8,9)"
   ]
  },
  {
   "cell_type": "code",
   "execution_count": 5,
   "id": "02fd0083",
   "metadata": {},
   "outputs": [
    {
     "data": {
      "text/plain": [
       "(5, 6, 'kishan', 6, 7, 9, 2, 1)"
      ]
     },
     "execution_count": 5,
     "metadata": {},
     "output_type": "execute_result"
    }
   ],
   "source": [
    "test1(5,6,\"kishan\",6,7,9,2,1)"
   ]
  },
  {
   "cell_type": "code",
   "execution_count": 6,
   "id": "cbd9624b",
   "metadata": {},
   "outputs": [
    {
     "data": {
      "text/plain": [
       "('kishan', [1, 2, 3], (4, 5, 6), {7, 8, 9}, {1: 'a', 'b': 2}, (5+7j))"
      ]
     },
     "execution_count": 6,
     "metadata": {},
     "output_type": "execute_result"
    }
   ],
   "source": [
    "test1(\"kishan\",[1,2,3],(4,5,6),{7,8,9},{1:'a','b':2},5+7j)"
   ]
  },
  {
   "cell_type": "code",
   "execution_count": 7,
   "id": "faa7a637",
   "metadata": {},
   "outputs": [],
   "source": [
    "def test3(*args, a):\n",
    "    return args,a"
   ]
  },
  {
   "cell_type": "code",
   "execution_count": 8,
   "id": "21231ecb",
   "metadata": {},
   "outputs": [
    {
     "data": {
      "text/plain": [
       "((6, 4, 5), 4)"
      ]
     },
     "execution_count": 8,
     "metadata": {},
     "output_type": "execute_result"
    }
   ],
   "source": [
    "test3(6,4,5,a=4)"
   ]
  },
  {
   "cell_type": "code",
   "execution_count": 9,
   "id": "4b407650",
   "metadata": {},
   "outputs": [],
   "source": [
    "def test4(*args,a,b,c,d):\n",
    "    return args,a,b,c,d"
   ]
  },
  {
   "cell_type": "code",
   "execution_count": 10,
   "id": "94a6557e",
   "metadata": {},
   "outputs": [
    {
     "data": {
      "text/plain": [
       "((3, 4, 5, 6), [1, 2], {1}, (1, 2), 'kish')"
      ]
     },
     "execution_count": 10,
     "metadata": {},
     "output_type": "execute_result"
    }
   ],
   "source": [
    "test4(3,4,5,6, a=[1,2],b={1},c=(1,2),d=\"kish\")"
   ]
  },
  {
   "cell_type": "code",
   "execution_count": 11,
   "id": "de5f9224",
   "metadata": {},
   "outputs": [],
   "source": [
    "def test5(a,*args):\n",
    "    return args, a"
   ]
  },
  {
   "cell_type": "code",
   "execution_count": 12,
   "id": "99a95598",
   "metadata": {},
   "outputs": [
    {
     "data": {
      "text/plain": [
       "((2, 6, 5), 'kish')"
      ]
     },
     "execution_count": 12,
     "metadata": {},
     "output_type": "execute_result"
    }
   ],
   "source": [
    "test5(\"kish\",2,6,5)"
   ]
  },
  {
   "cell_type": "code",
   "execution_count": 13,
   "id": "6be0efe5",
   "metadata": {},
   "outputs": [
    {
     "data": {
      "text/plain": [
       "((6, 5, 'kish'), 2)"
      ]
     },
     "execution_count": 13,
     "metadata": {},
     "output_type": "execute_result"
    }
   ],
   "source": [
    "test5(2,6,5,\"kish\")"
   ]
  },
  {
   "cell_type": "code",
   "execution_count": 14,
   "id": "276c979d",
   "metadata": {},
   "outputs": [],
   "source": [
    "def test6(a, *args, b,c):\n",
    "    return a,args, b, c"
   ]
  },
  {
   "cell_type": "code",
   "execution_count": 15,
   "id": "f128466e",
   "metadata": {},
   "outputs": [
    {
     "ename": "TypeError",
     "evalue": "test6() missing 2 required keyword-only arguments: 'b' and 'c'",
     "output_type": "error",
     "traceback": [
      "\u001b[1;31m---------------------------------------------------------------------------\u001b[0m",
      "\u001b[1;31mTypeError\u001b[0m                                 Traceback (most recent call last)",
      "Cell \u001b[1;32mIn[15], line 1\u001b[0m\n\u001b[1;32m----> 1\u001b[0m test6(\u001b[38;5;124m\"\u001b[39m\u001b[38;5;124mkishan\u001b[39m\u001b[38;5;124m\"\u001b[39m, [\u001b[38;5;241m1\u001b[39m,\u001b[38;5;241m2\u001b[39m,\u001b[38;5;241m3\u001b[39m],\u001b[38;5;241m56\u001b[39m,\u001b[38;5;241m52\u001b[39m,\u001b[38;5;241m4\u001b[39m)\n",
      "\u001b[1;31mTypeError\u001b[0m: test6() missing 2 required keyword-only arguments: 'b' and 'c'"
     ]
    }
   ],
   "source": [
    "test6(\"kishan\", [1,2,3],56,52,4)"
   ]
  },
  {
   "cell_type": "code",
   "execution_count": 16,
   "id": "f75414d1",
   "metadata": {},
   "outputs": [
    {
     "data": {
      "text/plain": [
       "('kishan', ([1, 2, 3], 56), 52, 4)"
      ]
     },
     "execution_count": 16,
     "metadata": {},
     "output_type": "execute_result"
    }
   ],
   "source": [
    "test6(\"kishan\", [1,2,3],56,b=52,c=4)"
   ]
  },
  {
   "cell_type": "code",
   "execution_count": 17,
   "id": "0d40aaa2",
   "metadata": {},
   "outputs": [],
   "source": [
    "def test7(*args):\n",
    "    for i in args:\n",
    "        if type(i) == list:\n",
    "            return i\n",
    "        else:\n",
    "            pass"
   ]
  },
  {
   "cell_type": "code",
   "execution_count": 18,
   "id": "8bac0db1",
   "metadata": {},
   "outputs": [
    {
     "data": {
      "text/plain": [
       "[1, 2, 3]"
      ]
     },
     "execution_count": 18,
     "metadata": {},
     "output_type": "execute_result"
    }
   ],
   "source": [
    "test7(5,6,2,8,[1,2,3])"
   ]
  },
  {
   "cell_type": "code",
   "execution_count": 19,
   "id": "9a9274ce",
   "metadata": {},
   "outputs": [
    {
     "data": {
      "text/plain": [
       "[1, 2, 3]"
      ]
     },
     "execution_count": 19,
     "metadata": {},
     "output_type": "execute_result"
    }
   ],
   "source": [
    "test7(5,6,2,[1,2,3],[45,6])"
   ]
  },
  {
   "cell_type": "code",
   "execution_count": 20,
   "id": "cafb4ce0",
   "metadata": {},
   "outputs": [],
   "source": [
    "def test7(*args):\n",
    "    l1=[]\n",
    "    for i in args:\n",
    "        if type(i) == list:\n",
    "            l1.append(i)\n",
    "        else:\n",
    "            pass\n",
    "    return l1"
   ]
  },
  {
   "cell_type": "code",
   "execution_count": 21,
   "id": "b12ba2d1",
   "metadata": {},
   "outputs": [
    {
     "data": {
      "text/plain": [
       "[[1, 2, 3], [45, 6]]"
      ]
     },
     "execution_count": 21,
     "metadata": {},
     "output_type": "execute_result"
    }
   ],
   "source": [
    "test7(5,6,2,[1,2,3],[45,6])"
   ]
  },
  {
   "cell_type": "code",
   "execution_count": 22,
   "id": "58edc4af",
   "metadata": {},
   "outputs": [],
   "source": [
    "d={\"a\":[2,3,4,5,6],\"b\":[7,8,9]}"
   ]
  },
  {
   "cell_type": "code",
   "execution_count": 23,
   "id": "9481e926",
   "metadata": {},
   "outputs": [],
   "source": [
    "def test8(**kwargs):\n",
    "    return kwargs\n",
    "    "
   ]
  },
  {
   "cell_type": "code",
   "execution_count": 24,
   "id": "01f6ef79",
   "metadata": {},
   "outputs": [
    {
     "data": {
      "text/plain": [
       "{'a': 5, 'b': 6, 'c': [1, 2, 3]}"
      ]
     },
     "execution_count": 24,
     "metadata": {},
     "output_type": "execute_result"
    }
   ],
   "source": [
    "test8(a=5,b=6,c=[1,2,3])"
   ]
  },
  {
   "cell_type": "code",
   "execution_count": 25,
   "id": "c4a0cd6c",
   "metadata": {},
   "outputs": [
    {
     "data": {
      "text/plain": [
       "{'a': 4}"
      ]
     },
     "execution_count": 25,
     "metadata": {},
     "output_type": "execute_result"
    }
   ],
   "source": [
    "test8(a=4)"
   ]
  },
  {
   "cell_type": "code",
   "execution_count": 26,
   "id": "6f9e4d7c",
   "metadata": {},
   "outputs": [
    {
     "ename": "TypeError",
     "evalue": "test8() takes 0 positional arguments but 1 was given",
     "output_type": "error",
     "traceback": [
      "\u001b[1;31m---------------------------------------------------------------------------\u001b[0m",
      "\u001b[1;31mTypeError\u001b[0m                                 Traceback (most recent call last)",
      "Cell \u001b[1;32mIn[26], line 1\u001b[0m\n\u001b[1;32m----> 1\u001b[0m test8(\u001b[38;5;241m5\u001b[39m)\n",
      "\u001b[1;31mTypeError\u001b[0m: test8() takes 0 positional arguments but 1 was given"
     ]
    }
   ],
   "source": [
    "test8(5)"
   ]
  },
  {
   "cell_type": "code",
   "execution_count": 27,
   "id": "f1e12ffa",
   "metadata": {},
   "outputs": [],
   "source": [
    "def test9(a,**kwargs):\n",
    "    return kwargs, a\n",
    "    "
   ]
  },
  {
   "cell_type": "code",
   "execution_count": 28,
   "id": "f6fbada2",
   "metadata": {},
   "outputs": [
    {
     "ename": "TypeError",
     "evalue": "test9() takes 1 positional argument but 4 were given",
     "output_type": "error",
     "traceback": [
      "\u001b[1;31m---------------------------------------------------------------------------\u001b[0m",
      "\u001b[1;31mTypeError\u001b[0m                                 Traceback (most recent call last)",
      "Cell \u001b[1;32mIn[28], line 1\u001b[0m\n\u001b[1;32m----> 1\u001b[0m test9(\u001b[38;5;241m45\u001b[39m,\u001b[38;5;241m85\u001b[39m,\u001b[38;5;241m62\u001b[39m,\u001b[38;5;241m74\u001b[39m)\n",
      "\u001b[1;31mTypeError\u001b[0m: test9() takes 1 positional argument but 4 were given"
     ]
    }
   ],
   "source": [
    "test9(45,85,62,74)"
   ]
  },
  {
   "cell_type": "code",
   "execution_count": 29,
   "id": "6a2913c7",
   "metadata": {},
   "outputs": [
    {
     "data": {
      "text/plain": [
       "({'b': 85, 'c': 62, 'd': 74}, 45)"
      ]
     },
     "execution_count": 29,
     "metadata": {},
     "output_type": "execute_result"
    }
   ],
   "source": [
    "test9(a=45,b=85,c=62,d=74)"
   ]
  },
  {
   "cell_type": "code",
   "execution_count": 30,
   "id": "172cabd9",
   "metadata": {},
   "outputs": [
    {
     "data": {
      "text/plain": [
       "({'d': 45, 'b': 85, 'c': 62}, 74)"
      ]
     },
     "execution_count": 30,
     "metadata": {},
     "output_type": "execute_result"
    }
   ],
   "source": [
    "test9(d=45,b=85,c=62,a=74)"
   ]
  },
  {
   "cell_type": "code",
   "execution_count": 31,
   "id": "c935abda",
   "metadata": {},
   "outputs": [
    {
     "ename": "SyntaxError",
     "evalue": "arguments cannot follow var-keyword argument (727334427.py, line 1)",
     "output_type": "error",
     "traceback": [
      "\u001b[1;36m  Cell \u001b[1;32mIn[31], line 1\u001b[1;36m\u001b[0m\n\u001b[1;33m    def test10(a,**kwargs, *args):\u001b[0m\n\u001b[1;37m                           ^\u001b[0m\n\u001b[1;31mSyntaxError\u001b[0m\u001b[1;31m:\u001b[0m arguments cannot follow var-keyword argument\n"
     ]
    }
   ],
   "source": [
    "def test10(a,**kwargs, *args):\n",
    "    return kwargs, a, args"
   ]
  },
  {
   "cell_type": "code",
   "execution_count": 32,
   "id": "212a0773",
   "metadata": {},
   "outputs": [],
   "source": [
    "def test11(a,*args,**kwargs):\n",
    "    return kwargs, a, args"
   ]
  },
  {
   "cell_type": "code",
   "execution_count": 33,
   "id": "dd3c3595",
   "metadata": {},
   "outputs": [
    {
     "data": {
      "text/plain": [
       "({'g': 452, 'l': 52}, 45, (6, 2, 5))"
      ]
     },
     "execution_count": 33,
     "metadata": {},
     "output_type": "execute_result"
    }
   ],
   "source": [
    "test11(45,6,2,5,g=452,l=52)"
   ]
  },
  {
   "cell_type": "code",
   "execution_count": 34,
   "id": "65600a80",
   "metadata": {},
   "outputs": [],
   "source": [
    "def test12(a,b):\n",
    "    return a*b"
   ]
  },
  {
   "cell_type": "code",
   "execution_count": 35,
   "id": "fcf487f2",
   "metadata": {},
   "outputs": [
    {
     "data": {
      "text/plain": [
       "3105"
      ]
     },
     "execution_count": 35,
     "metadata": {},
     "output_type": "execute_result"
    }
   ],
   "source": [
    "test12(45,69)"
   ]
  },
  {
   "cell_type": "code",
   "execution_count": 36,
   "id": "ba8dc22c",
   "metadata": {},
   "outputs": [],
   "source": [
    "a = lambda a,b : a*b"
   ]
  },
  {
   "cell_type": "code",
   "execution_count": 37,
   "id": "6dca1f02",
   "metadata": {},
   "outputs": [
    {
     "data": {
      "text/plain": [
       "24"
      ]
     },
     "execution_count": 37,
     "metadata": {},
     "output_type": "execute_result"
    }
   ],
   "source": [
    " a(6,4)"
   ]
  },
  {
   "cell_type": "code",
   "execution_count": 38,
   "id": "67b6bcc2",
   "metadata": {},
   "outputs": [],
   "source": [
    "a= lambda *args : args"
   ]
  },
  {
   "cell_type": "code",
   "execution_count": 39,
   "id": "cdeac399",
   "metadata": {},
   "outputs": [
    {
     "data": {
      "text/plain": [
       "(5, 6, 7, 8, 2, 4, 1)"
      ]
     },
     "execution_count": 39,
     "metadata": {},
     "output_type": "execute_result"
    }
   ],
   "source": [
    "a(5,6,7,8,2,4,1)"
   ]
  },
  {
   "cell_type": "code",
   "execution_count": 40,
   "id": "c8573fc5",
   "metadata": {},
   "outputs": [],
   "source": [
    "a = lambda a,b : (a*b,a+b)"
   ]
  },
  {
   "cell_type": "code",
   "execution_count": 41,
   "id": "9d810038",
   "metadata": {},
   "outputs": [
    {
     "data": {
      "text/plain": [
       "(16, 8)"
      ]
     },
     "execution_count": 41,
     "metadata": {},
     "output_type": "execute_result"
    }
   ],
   "source": [
    "a(4,4)"
   ]
  },
  {
   "cell_type": "code",
   "execution_count": 47,
   "id": "25a90b8d",
   "metadata": {},
   "outputs": [],
   "source": [
    "x = lambda x : [print(i) for i in x]"
   ]
  },
  {
   "cell_type": "code",
   "execution_count": 50,
   "id": "26e8f2be",
   "metadata": {},
   "outputs": [
    {
     "name": "stdout",
     "output_type": "stream",
     "text": [
      "2\n",
      "3\n"
     ]
    },
    {
     "data": {
      "text/plain": [
       "[None, None]"
      ]
     },
     "execution_count": 50,
     "metadata": {},
     "output_type": "execute_result"
    }
   ],
   "source": [
    "x([2,3])"
   ]
  },
  {
   "cell_type": "code",
   "execution_count": 51,
   "id": "c53456ae",
   "metadata": {},
   "outputs": [],
   "source": [
    "x = lambda x : [i for i in x]"
   ]
  },
  {
   "cell_type": "code",
   "execution_count": 52,
   "id": "fc27b538",
   "metadata": {},
   "outputs": [
    {
     "data": {
      "text/plain": [
       "[1, 2, 3, 4, 5]"
      ]
     },
     "execution_count": 52,
     "metadata": {},
     "output_type": "execute_result"
    }
   ],
   "source": [
    "x([1,2,3,4,5])"
   ]
  },
  {
   "cell_type": "code",
   "execution_count": 53,
   "id": "5629e5cd",
   "metadata": {},
   "outputs": [],
   "source": [
    "a = lambda **kwargs : kwargs"
   ]
  },
  {
   "cell_type": "code",
   "execution_count": 54,
   "id": "f9cbc8ab",
   "metadata": {},
   "outputs": [
    {
     "data": {
      "text/plain": [
       "{'b': 45, 'a': 47}"
      ]
     },
     "execution_count": 54,
     "metadata": {},
     "output_type": "execute_result"
    }
   ],
   "source": [
    "a(b=45, a=47)"
   ]
  },
  {
   "cell_type": "code",
   "execution_count": 55,
   "id": "a98cf65c",
   "metadata": {},
   "outputs": [],
   "source": [
    "a = 10\n",
    "def test13(c,d):\n",
    "    return c*d"
   ]
  },
  {
   "cell_type": "code",
   "execution_count": 56,
   "id": "39001daa",
   "metadata": {},
   "outputs": [
    {
     "data": {
      "text/plain": [
       "50"
      ]
     },
     "execution_count": 56,
     "metadata": {},
     "output_type": "execute_result"
    }
   ],
   "source": [
    "test13(a,5)"
   ]
  },
  {
   "cell_type": "code",
   "execution_count": 57,
   "id": "00eba2b1",
   "metadata": {},
   "outputs": [],
   "source": [
    "def test14(c,d):\n",
    "    a = 5\n",
    "    return c*d"
   ]
  },
  {
   "cell_type": "code",
   "execution_count": 58,
   "id": "58f8251f",
   "metadata": {},
   "outputs": [
    {
     "data": {
      "text/plain": [
       "50"
      ]
     },
     "execution_count": 58,
     "metadata": {},
     "output_type": "execute_result"
    }
   ],
   "source": [
    "test14(a,5)"
   ]
  },
  {
   "cell_type": "code",
   "execution_count": null,
   "id": "71eb79d2",
   "metadata": {},
   "outputs": [],
   "source": [
    "2:05:00"
   ]
  }
 ],
 "metadata": {
  "kernelspec": {
   "display_name": "Python 3 (ipykernel)",
   "language": "python",
   "name": "python3"
  },
  "language_info": {
   "codemirror_mode": {
    "name": "ipython",
    "version": 3
   },
   "file_extension": ".py",
   "mimetype": "text/x-python",
   "name": "python",
   "nbconvert_exporter": "python",
   "pygments_lexer": "ipython3",
   "version": "3.11.4"
  }
 },
 "nbformat": 4,
 "nbformat_minor": 5
}
