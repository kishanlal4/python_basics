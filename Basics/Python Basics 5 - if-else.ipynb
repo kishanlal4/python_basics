{
 "cells": [
  {
   "cell_type": "code",
   "execution_count": 1,
   "id": "04704d5e",
   "metadata": {},
   "outputs": [],
   "source": [
    "a = 10"
   ]
  },
  {
   "cell_type": "code",
   "execution_count": 2,
   "id": "0f819cc3",
   "metadata": {},
   "outputs": [
    {
     "data": {
      "text/plain": [
       "True"
      ]
     },
     "execution_count": 2,
     "metadata": {},
     "output_type": "execute_result"
    }
   ],
   "source": [
    "a<15"
   ]
  },
  {
   "cell_type": "code",
   "execution_count": 3,
   "id": "247a2cbc",
   "metadata": {},
   "outputs": [
    {
     "name": "stdout",
     "output_type": "stream",
     "text": [
      "my name is kishan\n"
     ]
    }
   ],
   "source": [
    "if a < 15:\n",
    "    print(\"my name is kishan\")"
   ]
  },
  {
   "cell_type": "code",
   "execution_count": 4,
   "id": "034c0d60",
   "metadata": {},
   "outputs": [],
   "source": [
    "if a <15:\n",
    "    pass"
   ]
  },
  {
   "cell_type": "code",
   "execution_count": 5,
   "id": "afb988d5",
   "metadata": {},
   "outputs": [],
   "source": [
    "if 24<15:\n",
    "    print(\"my name is kishan\")"
   ]
  },
  {
   "cell_type": "code",
   "execution_count": 6,
   "id": "0d89cf0b",
   "metadata": {},
   "outputs": [
    {
     "name": "stdout",
     "output_type": "stream",
     "text": [
      "if statement is wrong\n"
     ]
    }
   ],
   "source": [
    "if 10 < 3:\n",
    "    print(\"10 is lesser than 3\")\n",
    "else:\n",
    "    print(\"if statement is wrong\")\n",
    "    "
   ]
  },
  {
   "cell_type": "code",
   "execution_count": 8,
   "id": "5fcfc3f2",
   "metadata": {},
   "outputs": [
    {
     "name": "stdout",
     "output_type": "stream",
     "text": [
      "5 is lesser than 10\n"
     ]
    }
   ],
   "source": [
    "if 5 < 10:\n",
    "    print(\"5 is lesser than 10\")\n",
    "else:\n",
    "    print(\"if statement is wrong\")"
   ]
  },
  {
   "cell_type": "code",
   "execution_count": 11,
   "id": "75832c6f",
   "metadata": {},
   "outputs": [
    {
     "name": "stdout",
     "output_type": "stream",
     "text": [
      "I won't be able to buy anything\n"
     ]
    }
   ],
   "source": [
    "income = 100\n",
    "if income <50:\n",
    "    print(\"I will be able to buy phone\")\n",
    "elif income < 75:\n",
    "    print(\"I will be able to bu car\")\n",
    "elif income < 90:\n",
    "    print(\" I will be able to rent a house\")\n",
    "else:\n",
    "    print(\"I won't be able to buy anything\")"
   ]
  },
  {
   "cell_type": "code",
   "execution_count": 12,
   "id": "7b18c320",
   "metadata": {},
   "outputs": [
    {
     "name": "stdout",
     "output_type": "stream",
     "text": [
      "10\n",
      "I will be able to buy phone\n"
     ]
    }
   ],
   "source": [
    "income = int(input())\n",
    "if income <50:\n",
    "    print(\"I will be able to buy phone\")\n",
    "elif income < 75:\n",
    "    print(\"I will be able to bu car\")\n",
    "elif income < 90:\n",
    "    print(\" I will be able to rent a house\")\n",
    "else:\n",
    "    print(\"I won't be able to buy anything\")"
   ]
  },
  {
   "cell_type": "code",
   "execution_count": 14,
   "id": "b91ed9f6",
   "metadata": {},
   "outputs": [
    {
     "name": "stdout",
     "output_type": "stream",
     "text": [
      "4565\n",
      "Discount is 228.25\n"
     ]
    }
   ],
   "source": [
    "Total_price = int(input())\n",
    "if Total_price > 20000:\n",
    "    discount = Total_price * .20\n",
    "    print(\"Discount is\", discount)\n",
    "elif Total_price <= 7000:\n",
    "    discount = Total_price * 0.05\n",
    "    print(\"Discount is\", discount)\n",
    "else:\n",
    "    print(\"won't be able to give any discount\")"
   ]
  },
  {
   "cell_type": "code",
   "execution_count": 17,
   "id": "1709ded2",
   "metadata": {},
   "outputs": [
    {
     "name": "stdout",
     "output_type": "stream",
     "text": [
      "KISHANLAL5\n",
      "you will be able to get a discount of 5%\n",
      "you will be able to get phone with this amount 6726.0\n"
     ]
    }
   ],
   "source": [
    "coupon = input()\n",
    "if coupon == \"KISHANLAL5\":\n",
    "    print(\"you will be able to get a discount of 5%\")\n",
    "    paid_amount = 7080 - 7080 * 0.05\n",
    "    print(\"you will be able to get phone with this amount\", paid_amount)\n",
    "else:\n",
    "    print(\"kindly use a valid coupuon code\")"
   ]
  },
  {
   "cell_type": "code",
   "execution_count": 19,
   "id": "4dd010e1",
   "metadata": {},
   "outputs": [
    {
     "name": "stdout",
     "output_type": "stream",
     "text": [
      "11\n",
      "it will take 3 months to complete course\n"
     ]
    }
   ],
   "source": [
    "study_hour = int(input())\n",
    "if study_hour < 1:\n",
    "    print(\"it take 8-9 month of time to complete course\")\n",
    "elif study_hour < 4 and study_hour >1:\n",
    "    print(\"it take 6 month for completing course\")\n",
    "elif study_hour > 10:\n",
    "    print(\"it will take 3 months to complete course\")\n",
    "else:\n",
    "    print(\"it will be difficult\")"
   ]
  },
  {
   "cell_type": "code",
   "execution_count": 20,
   "id": "e8824d7a",
   "metadata": {},
   "outputs": [
    {
     "name": "stdout",
     "output_type": "stream",
     "text": [
      "valid\n"
     ]
    }
   ],
   "source": [
    "a = 9\n",
    "if a==9: print(\"valid\")"
   ]
  },
  {
   "cell_type": "code",
   "execution_count": 27,
   "id": "52a68052",
   "metadata": {},
   "outputs": [
    {
     "name": "stdout",
     "output_type": "stream",
     "text": [
      "enter to start coursestudy\n",
      "enter a course name DSA\n",
      "enter a service name df\n",
      "yes it's avilable under coursestudy\n"
     ]
    }
   ],
   "source": [
    "s= input(\"enter to start \")\n",
    "course = input(\"enter a course name \")\n",
    "service = input(\"enter a service name \")\n",
    "if s==\"coursestudy\":\n",
    "    if course == \"DSA\":\n",
    "        print(\"yes it's avilable under coursestudy\")\n",
    "    elif course == \"Blockchain\":\n",
    "        print(\"this is not available as of now\")\n",
    "    elif course == \"Python\":\n",
    "        print(\"yes it's available\")\n",
    "    else:\n",
    "        print(\"this course is not available\")\n",
    "elif s == \"youtubeservice\":\n",
    "    if service == \"cousrserequest\":\n",
    "        print(\"Request for cousre\")\n",
    "    elif service == \"module\":\n",
    "        print(\"Request for module\")\n",
    "    elif service == \"doubt\":\n",
    "        print(\"Request for doubt\")\n",
    "    elif service == \"workwithkishan\":\n",
    "        print(\"Reuest to work with Kishan\")\n",
    "    else:\n",
    "        print(\"Provide feedback\")\n",
    "else:\n",
    "    print(\"kindly connect with me\")"
   ]
  }
 ],
 "metadata": {
  "kernelspec": {
   "display_name": "Python 3 (ipykernel)",
   "language": "python",
   "name": "python3"
  },
  "language_info": {
   "codemirror_mode": {
    "name": "ipython",
    "version": 3
   },
   "file_extension": ".py",
   "mimetype": "text/x-python",
   "name": "python",
   "nbconvert_exporter": "python",
   "pygments_lexer": "ipython3",
   "version": "3.11.4"
  }
 },
 "nbformat": 4,
 "nbformat_minor": 5
}
