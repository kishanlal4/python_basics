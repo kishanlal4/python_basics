{
 "cells": [
  {
   "cell_type": "code",
   "execution_count": 1,
   "id": "3815d808",
   "metadata": {},
   "outputs": [],
   "source": [
    "s = \"This is basic python class\""
   ]
  },
  {
   "cell_type": "code",
   "execution_count": 2,
   "id": "7fc3e601",
   "metadata": {},
   "outputs": [
    {
     "data": {
      "text/plain": [
       "26"
      ]
     },
     "execution_count": 2,
     "metadata": {},
     "output_type": "execute_result"
    }
   ],
   "source": [
    "count = 0\n",
    "for i in s:\n",
    "    count = count + 1\n",
    "print(count)"
   ]
  },
  {
   "cell_type": "code",
   "execution_count": 4,
   "id": "9d82d8f4",
   "metadata": {},
   "outputs": [
    {
     "name": "stdout",
     "output_type": "stream",
     "text": [
      "s\n",
      "s\n",
      "a\n",
      "l\n",
      "c\n",
      " \n",
      "n\n",
      "o\n",
      "h\n",
      "t\n",
      "y\n",
      "p\n",
      " \n",
      "c\n",
      "i\n",
      "s\n",
      "a\n",
      "b\n",
      " \n",
      "s\n",
      "i\n",
      " \n",
      "s\n",
      "i\n",
      "h\n",
      "T\n"
     ]
    }
   ],
   "source": [
    "for i in range(len(s)-1,-1,-1):\n",
    "    print(s[i])"
   ]
  },
  {
   "cell_type": "code",
   "execution_count": 6,
   "id": "15e6879e",
   "metadata": {},
   "outputs": [
    {
     "name": "stdout",
     "output_type": "stream",
     "text": [
      "s\n",
      "s\n",
      "a\n",
      "l\n",
      "c\n",
      " \n",
      "n\n",
      "o\n",
      "h\n",
      "t\n",
      "y\n",
      "p\n",
      " \n",
      "c\n",
      "i\n",
      "s\n",
      "a\n",
      "b\n",
      " \n",
      "s\n",
      "i\n",
      " \n",
      "s\n",
      "i\n",
      "h\n",
      "T\n"
     ]
    }
   ],
   "source": [
    "i = len(s)-1\n",
    "while (i >=0):\n",
    "    print(s[i])\n",
    "    i=i-1"
   ]
  },
  {
   "cell_type": "code",
   "execution_count": 8,
   "id": "da9d70a4",
   "metadata": {},
   "outputs": [
    {
     "name": "stdout",
     "output_type": "stream",
     "text": [
      "k is not a vowel\n",
      "i is a vowel\n",
      "s is not a vowel\n",
      "h is not a vowel\n",
      "a is a vowel\n",
      "n is not a vowel\n",
      "l is not a vowel\n",
      "a is a vowel\n",
      "l is not a vowel\n"
     ]
    }
   ],
   "source": [
    "s = \"kishanlal\"\n",
    "v = \"AaEeIiOoUu\"\n",
    "for i in s:\n",
    "    if i in v:\n",
    "        print(i,\"is a vowel\")\n",
    "    else:\n",
    "        print(i,\"is not a vowel\")"
   ]
  },
  {
   "cell_type": "code",
   "execution_count": 13,
   "id": "4d9f6473",
   "metadata": {},
   "outputs": [
    {
     "name": "stdout",
     "output_type": "stream",
     "text": [
      "malayalam\n",
      "palindrome\n"
     ]
    }
   ],
   "source": [
    "s = \"malayalam\"\n",
    "i = len(s) -1\n",
    "s1 =\"\"\n",
    "while(i>=0):\n",
    "    s1=s1 + (s[i])\n",
    "    i=i-1\n",
    "print(s1)\n",
    "if s1==s:\n",
    "    print(\"palindrome\")\n",
    "else:\n",
    "    print(\"not palindrome\")"
   ]
  },
  {
   "cell_type": "code",
   "execution_count": 14,
   "id": "4348e305",
   "metadata": {},
   "outputs": [],
   "source": [
    "d = {\"india\":\"IN\", \"canada\":\"CA\",\"china\":\"CH\", \"united state\":\"US\"}"
   ]
  },
  {
   "cell_type": "code",
   "execution_count": 15,
   "id": "b162f36e",
   "metadata": {},
   "outputs": [
    {
     "data": {
      "text/plain": [
       "True"
      ]
     },
     "execution_count": 15,
     "metadata": {},
     "output_type": "execute_result"
    }
   ],
   "source": [
    "\"india\" in d"
   ]
  },
  {
   "cell_type": "code",
   "execution_count": 17,
   "id": "758abe93",
   "metadata": {},
   "outputs": [
    {
     "name": "stdout",
     "output_type": "stream",
     "text": [
      "['canada', 'united state']\n",
      "['india', 'china']\n"
     ]
    }
   ],
   "source": [
    "l1=[]\n",
    "l2=[]\n",
    "for i in d:\n",
    "    if len(i)>5:\n",
    "        l1.append(i)\n",
    "    elif len(i)<=5:\n",
    "        l2.append(i)\n",
    "print(l1)\n",
    "print(l2)"
   ]
  },
  {
   "cell_type": "code",
   "execution_count": 2,
   "id": "7a9eb1e5",
   "metadata": {},
   "outputs": [],
   "source": [
    "d_1 = {\"kishan\":{\"a\":14,\"b\":10,\"c\":4},\"lal\":{\"d\":45,\"e\":34,\"f\":1}}"
   ]
  },
  {
   "cell_type": "code",
   "execution_count": 16,
   "id": "c170585f",
   "metadata": {},
   "outputs": [
    {
     "name": "stdout",
     "output_type": "stream",
     "text": [
      "{'a': 14, 'b': 10, 'c': 4}\n",
      "{'d': 45, 'e': 34, 'f': 1}\n"
     ]
    }
   ],
   "source": [
    "l1=[]\n",
    "l2=[]\n",
    "for i in d_1.values():\n",
    "    print(i)\n",
    "    for j in i.values():\n",
    "        l1.append(j)\n",
    "    l2.append(max(l1))  "
   ]
  },
  {
   "cell_type": "code",
   "execution_count": 17,
   "id": "13624419",
   "metadata": {},
   "outputs": [
    {
     "data": {
      "text/plain": [
       "[14, 45]"
      ]
     },
     "execution_count": 17,
     "metadata": {},
     "output_type": "execute_result"
    }
   ],
   "source": [
    "l2"
   ]
  },
  {
   "cell_type": "code",
   "execution_count": 25,
   "id": "42aeb297",
   "metadata": {},
   "outputs": [],
   "source": [
    "d1 = {\"kishan\":{\"a\":14,\"b\":10,\"c\":4},\"lal\":{\"d\":45,\"e\":34,\"f\":1},\"g\":34,\"h\":[45,67,7,8,3],\"i\":(45,34,2),\"k\":\"course\"}"
   ]
  },
  {
   "cell_type": "code",
   "execution_count": 26,
   "id": "2e22eeb8",
   "metadata": {},
   "outputs": [
    {
     "data": {
      "text/plain": [
       "{'kishan': {'a': 14, 'b': 10, 'c': 4},\n",
       " 'lal': {'d': 45, 'e': 34, 'f': 1},\n",
       " 'g': 34,\n",
       " 'h': [45, 67, 7, 8, 3],\n",
       " 'i': (45, 34, 2),\n",
       " 'k': 'course'}"
      ]
     },
     "execution_count": 26,
     "metadata": {},
     "output_type": "execute_result"
    }
   ],
   "source": [
    "d1"
   ]
  },
  {
   "cell_type": "code",
   "execution_count": 30,
   "id": "7a7f33ae",
   "metadata": {},
   "outputs": [
    {
     "data": {
      "text/plain": [
       "[67]"
      ]
     },
     "execution_count": 30,
     "metadata": {},
     "output_type": "execute_result"
    }
   ],
   "source": [
    "l1=[]\n",
    "l2=[]\n",
    "for i in d1.values():\n",
    "    if type(i)==int:\n",
    "        l1.append(i)\n",
    "    elif type(i)==list:\n",
    "        l1.append(max(i))\n",
    "    elif type(i)==tuple:\n",
    "        l1.append(max(i))\n",
    "    elif type(i)==dict:\n",
    "        l1.append(max(i.values()))\n",
    "    elif type(i)==str:\n",
    "        pass\n",
    "l2.append(max(l1))\n",
    "l2"
   ]
  }
 ],
 "metadata": {
  "kernelspec": {
   "display_name": "Python 3 (ipykernel)",
   "language": "python",
   "name": "python3"
  },
  "language_info": {
   "codemirror_mode": {
    "name": "ipython",
    "version": 3
   },
   "file_extension": ".py",
   "mimetype": "text/x-python",
   "name": "python",
   "nbconvert_exporter": "python",
   "pygments_lexer": "ipython3",
   "version": "3.11.4"
  }
 },
 "nbformat": 4,
 "nbformat_minor": 5
}
