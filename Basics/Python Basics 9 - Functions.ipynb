{
 "cells": [
  {
   "cell_type": "code",
   "execution_count": 1,
   "id": "a986d4ed",
   "metadata": {},
   "outputs": [
    {
     "data": {
      "text/plain": [
       "4"
      ]
     },
     "execution_count": 1,
     "metadata": {},
     "output_type": "execute_result"
    }
   ],
   "source": [
    "len(\"kish\")"
   ]
  },
  {
   "cell_type": "code",
   "execution_count": 2,
   "id": "0b3d326a",
   "metadata": {},
   "outputs": [
    {
     "name": "stdout",
     "output_type": "stream",
     "text": [
      "kishanlal\n"
     ]
    }
   ],
   "source": [
    "print(\"kishanlal\")"
   ]
  },
  {
   "cell_type": "code",
   "execution_count": 3,
   "id": "ee313122",
   "metadata": {},
   "outputs": [],
   "source": [
    "def test():\n",
    "    pass"
   ]
  },
  {
   "cell_type": "code",
   "execution_count": 4,
   "id": "e8372cdf",
   "metadata": {},
   "outputs": [],
   "source": [
    "def test1():\n",
    "    print(\"This is my first function\")"
   ]
  },
  {
   "cell_type": "code",
   "execution_count": 5,
   "id": "1cc4015c",
   "metadata": {},
   "outputs": [
    {
     "name": "stdout",
     "output_type": "stream",
     "text": [
      "This is my first function\n"
     ]
    }
   ],
   "source": [
    "test1()"
   ]
  },
  {
   "cell_type": "code",
   "execution_count": 6,
   "id": "02bf56c2",
   "metadata": {},
   "outputs": [
    {
     "name": "stdout",
     "output_type": "stream",
     "text": [
      "This is my first function\n"
     ]
    }
   ],
   "source": [
    "a = test1()"
   ]
  },
  {
   "cell_type": "code",
   "execution_count": 7,
   "id": "eed38dbb",
   "metadata": {},
   "outputs": [
    {
     "ename": "TypeError",
     "evalue": "unsupported operand type(s) for +: 'NoneType' and 'str'",
     "output_type": "error",
     "traceback": [
      "\u001b[1;31m---------------------------------------------------------------------------\u001b[0m",
      "\u001b[1;31mTypeError\u001b[0m                                 Traceback (most recent call last)",
      "Cell \u001b[1;32mIn[7], line 1\u001b[0m\n\u001b[1;32m----> 1\u001b[0m a \u001b[38;5;241m+\u001b[39m \u001b[38;5;124m\"\u001b[39m\u001b[38;5;124mkish\u001b[39m\u001b[38;5;124m\"\u001b[39m\n",
      "\u001b[1;31mTypeError\u001b[0m: unsupported operand type(s) for +: 'NoneType' and 'str'"
     ]
    }
   ],
   "source": [
    "a + \"kish\""
   ]
  },
  {
   "cell_type": "code",
   "execution_count": 8,
   "id": "4ab97202",
   "metadata": {},
   "outputs": [
    {
     "name": "stdout",
     "output_type": "stream",
     "text": [
      "This is my first function\n"
     ]
    },
    {
     "data": {
      "text/plain": [
       "NoneType"
      ]
     },
     "execution_count": 8,
     "metadata": {},
     "output_type": "execute_result"
    }
   ],
   "source": [
    "type(test1())"
   ]
  },
  {
   "cell_type": "code",
   "execution_count": 9,
   "id": "0d1c99a3",
   "metadata": {},
   "outputs": [
    {
     "data": {
      "text/plain": [
       "'None'"
      ]
     },
     "execution_count": 9,
     "metadata": {},
     "output_type": "execute_result"
    }
   ],
   "source": [
    "str(a)"
   ]
  },
  {
   "cell_type": "code",
   "execution_count": 10,
   "id": "e518246d",
   "metadata": {},
   "outputs": [],
   "source": [
    "def test2():\n",
    "    return \"This is my second function\""
   ]
  },
  {
   "cell_type": "code",
   "execution_count": 11,
   "id": "d9c4aaba",
   "metadata": {},
   "outputs": [
    {
     "data": {
      "text/plain": [
       "'This is my second function'"
      ]
     },
     "execution_count": 11,
     "metadata": {},
     "output_type": "execute_result"
    }
   ],
   "source": [
    "test2()"
   ]
  },
  {
   "cell_type": "code",
   "execution_count": 12,
   "id": "e58f1824",
   "metadata": {},
   "outputs": [
    {
     "data": {
      "text/plain": [
       "str"
      ]
     },
     "execution_count": 12,
     "metadata": {},
     "output_type": "execute_result"
    }
   ],
   "source": [
    "type(test2())"
   ]
  },
  {
   "cell_type": "code",
   "execution_count": 13,
   "id": "11d4078c",
   "metadata": {},
   "outputs": [
    {
     "data": {
      "text/plain": [
       "'This is my second functionkish'"
      ]
     },
     "execution_count": 13,
     "metadata": {},
     "output_type": "execute_result"
    }
   ],
   "source": [
    "test2() + \"kish\""
   ]
  },
  {
   "cell_type": "code",
   "execution_count": 14,
   "id": "7f1b00bd",
   "metadata": {},
   "outputs": [],
   "source": [
    "def test3():\n",
    "    return 123456"
   ]
  },
  {
   "cell_type": "code",
   "execution_count": 15,
   "id": "ac03c309",
   "metadata": {},
   "outputs": [
    {
     "data": {
      "text/plain": [
       "123456"
      ]
     },
     "execution_count": 15,
     "metadata": {},
     "output_type": "execute_result"
    }
   ],
   "source": [
    "test3()"
   ]
  },
  {
   "cell_type": "code",
   "execution_count": 16,
   "id": "59e6bfa4",
   "metadata": {},
   "outputs": [
    {
     "data": {
      "text/plain": [
       "int"
      ]
     },
     "execution_count": 16,
     "metadata": {},
     "output_type": "execute_result"
    }
   ],
   "source": [
    "type(test3())"
   ]
  },
  {
   "cell_type": "code",
   "execution_count": 17,
   "id": "dcd94e99",
   "metadata": {},
   "outputs": [],
   "source": [
    "def test4():\n",
    "    return 4,3,\"kish\",[1,2,3,4,5]"
   ]
  },
  {
   "cell_type": "code",
   "execution_count": 18,
   "id": "0d962da0",
   "metadata": {},
   "outputs": [
    {
     "data": {
      "text/plain": [
       "(4, 3, 'kish', [1, 2, 3, 4, 5])"
      ]
     },
     "execution_count": 18,
     "metadata": {},
     "output_type": "execute_result"
    }
   ],
   "source": [
    "test4()"
   ]
  },
  {
   "cell_type": "code",
   "execution_count": 19,
   "id": "59168538",
   "metadata": {},
   "outputs": [
    {
     "data": {
      "text/plain": [
       "tuple"
      ]
     },
     "execution_count": 19,
     "metadata": {},
     "output_type": "execute_result"
    }
   ],
   "source": [
    "type(test4())"
   ]
  },
  {
   "cell_type": "code",
   "execution_count": 20,
   "id": "8e634e74",
   "metadata": {},
   "outputs": [],
   "source": [
    "b = test4()"
   ]
  },
  {
   "cell_type": "code",
   "execution_count": 21,
   "id": "356957fe",
   "metadata": {},
   "outputs": [
    {
     "data": {
      "text/plain": [
       "(4, 3, 'kish', [1, 2, 3, 4, 5])"
      ]
     },
     "execution_count": 21,
     "metadata": {},
     "output_type": "execute_result"
    }
   ],
   "source": [
    "b"
   ]
  },
  {
   "cell_type": "code",
   "execution_count": 22,
   "id": "ad14a9c7",
   "metadata": {},
   "outputs": [
    {
     "data": {
      "text/plain": [
       "3"
      ]
     },
     "execution_count": 22,
     "metadata": {},
     "output_type": "execute_result"
    }
   ],
   "source": [
    "b[1]"
   ]
  },
  {
   "cell_type": "code",
   "execution_count": 23,
   "id": "b36de06f",
   "metadata": {},
   "outputs": [
    {
     "data": {
      "text/plain": [
       "[1, 2, 3, 4, 5]"
      ]
     },
     "execution_count": 23,
     "metadata": {},
     "output_type": "execute_result"
    }
   ],
   "source": [
    "b[3]"
   ]
  },
  {
   "cell_type": "code",
   "execution_count": 24,
   "id": "71f0ca39",
   "metadata": {},
   "outputs": [],
   "source": [
    "x,y,u,v = test4()"
   ]
  },
  {
   "cell_type": "code",
   "execution_count": 25,
   "id": "0b711319",
   "metadata": {},
   "outputs": [
    {
     "data": {
      "text/plain": [
       "4"
      ]
     },
     "execution_count": 25,
     "metadata": {},
     "output_type": "execute_result"
    }
   ],
   "source": [
    "x"
   ]
  },
  {
   "cell_type": "code",
   "execution_count": 26,
   "id": "a49cb391",
   "metadata": {},
   "outputs": [
    {
     "data": {
      "text/plain": [
       "3"
      ]
     },
     "execution_count": 26,
     "metadata": {},
     "output_type": "execute_result"
    }
   ],
   "source": [
    "y"
   ]
  },
  {
   "cell_type": "code",
   "execution_count": 27,
   "id": "4addec32",
   "metadata": {},
   "outputs": [
    {
     "data": {
      "text/plain": [
       "'kish'"
      ]
     },
     "execution_count": 27,
     "metadata": {},
     "output_type": "execute_result"
    }
   ],
   "source": [
    "u"
   ]
  },
  {
   "cell_type": "code",
   "execution_count": 28,
   "id": "da3b5eda",
   "metadata": {},
   "outputs": [
    {
     "data": {
      "text/plain": [
       "[1, 2, 3, 4, 5]"
      ]
     },
     "execution_count": 28,
     "metadata": {},
     "output_type": "execute_result"
    }
   ],
   "source": [
    "v"
   ]
  },
  {
   "cell_type": "code",
   "execution_count": 29,
   "id": "185170d1",
   "metadata": {},
   "outputs": [],
   "source": [
    "def test5():\n",
    "    a = 6*7/6\n",
    "    return a"
   ]
  },
  {
   "cell_type": "code",
   "execution_count": 30,
   "id": "30291675",
   "metadata": {},
   "outputs": [
    {
     "data": {
      "text/plain": [
       "7.0"
      ]
     },
     "execution_count": 30,
     "metadata": {},
     "output_type": "execute_result"
    }
   ],
   "source": [
    "test5()"
   ]
  },
  {
   "cell_type": "code",
   "execution_count": 31,
   "id": "f54794fb",
   "metadata": {},
   "outputs": [],
   "source": [
    "l = [3,4,5,6,7,7,\"kish\",[1,3,4,54,56]]"
   ]
  },
  {
   "cell_type": "code",
   "execution_count": 32,
   "id": "5802cf21",
   "metadata": {},
   "outputs": [],
   "source": [
    "def test6(a):\n",
    "    if type(a) == list:\n",
    "        l1=[]\n",
    "        for i in a:\n",
    "            if type(i)==int:\n",
    "                l1.append(i)\n",
    "    else:\n",
    "        return \"This is not a list\"\n",
    "    return l1"
   ]
  },
  {
   "cell_type": "code",
   "execution_count": 33,
   "id": "e162c1fa",
   "metadata": {},
   "outputs": [
    {
     "data": {
      "text/plain": [
       "[3, 4, 5, 6, 7, 7]"
      ]
     },
     "execution_count": 33,
     "metadata": {},
     "output_type": "execute_result"
    }
   ],
   "source": [
    "test6(l)"
   ]
  },
  {
   "cell_type": "code",
   "execution_count": 34,
   "id": "79a5d453",
   "metadata": {},
   "outputs": [
    {
     "data": {
      "text/plain": [
       "'This is not a list'"
      ]
     },
     "execution_count": 34,
     "metadata": {},
     "output_type": "execute_result"
    }
   ],
   "source": [
    "test6(a)"
   ]
  },
  {
   "cell_type": "code",
   "execution_count": 35,
   "id": "5d1ecd0c",
   "metadata": {},
   "outputs": [],
   "source": [
    "def test7(c):\n",
    "    if type(c)==dict:\n",
    "        return c.keys()\n",
    "    else:\n",
    "        return \"You have not passed dict\""
   ]
  },
  {
   "cell_type": "code",
   "execution_count": 36,
   "id": "6694c7f7",
   "metadata": {},
   "outputs": [
    {
     "data": {
      "text/plain": [
       "dict_keys(['a', 2])"
      ]
     },
     "execution_count": 36,
     "metadata": {},
     "output_type": "execute_result"
    }
   ],
   "source": [
    "test7({\"a\":1,2:\"v\"})"
   ]
  },
  {
   "cell_type": "code",
   "execution_count": 37,
   "id": "12d38e2b",
   "metadata": {},
   "outputs": [],
   "source": [
    "def test9(a,b):\n",
    "    if type(a)==list and type(b)== list:\n",
    "        a.extend(b)\n",
    "        return a\n",
    "    else:\n",
    "        return \"either of your data is not a list\""
   ]
  },
  {
   "cell_type": "code",
   "execution_count": 38,
   "id": "3d08cebe",
   "metadata": {},
   "outputs": [
    {
     "ename": "TypeError",
     "evalue": "test9() missing 1 required positional argument: 'b'",
     "output_type": "error",
     "traceback": [
      "\u001b[1;31m---------------------------------------------------------------------------\u001b[0m",
      "\u001b[1;31mTypeError\u001b[0m                                 Traceback (most recent call last)",
      "Cell \u001b[1;32mIn[38], line 1\u001b[0m\n\u001b[1;32m----> 1\u001b[0m test9(\u001b[38;5;241m2415\u001b[39m)\n",
      "\u001b[1;31mTypeError\u001b[0m: test9() missing 1 required positional argument: 'b'"
     ]
    }
   ],
   "source": [
    "test9(2415)"
   ]
  },
  {
   "cell_type": "code",
   "execution_count": 39,
   "id": "341e93ab",
   "metadata": {},
   "outputs": [
    {
     "data": {
      "text/plain": [
       "'either of your data is not a list'"
      ]
     },
     "execution_count": 39,
     "metadata": {},
     "output_type": "execute_result"
    }
   ],
   "source": [
    "test9(245,\"kish\")"
   ]
  },
  {
   "cell_type": "code",
   "execution_count": 40,
   "id": "8a548dc8",
   "metadata": {},
   "outputs": [
    {
     "data": {
      "text/plain": [
       "[1, 2, 3, 4, 5, 6]"
      ]
     },
     "execution_count": 40,
     "metadata": {},
     "output_type": "execute_result"
    }
   ],
   "source": [
    "test9([1,2,3],[4,5,6])"
   ]
  },
  {
   "cell_type": "code",
   "execution_count": 41,
   "id": "ad73bc15",
   "metadata": {},
   "outputs": [],
   "source": [
    "def pattern1(rows):\n",
    "    \"\"\"function to create a triangle pattern using asterik\n",
    "       you can give input as int\"\"\"\n",
    "    for i in range(0,rows):\n",
    "        for j in range(0,i+1):\n",
    "            print(\"*\", end=\" \")\n",
    "        print(\"\\r\")"
   ]
  },
  {
   "cell_type": "code",
   "execution_count": 42,
   "id": "98d6d92c",
   "metadata": {},
   "outputs": [
    {
     "name": "stdout",
     "output_type": "stream",
     "text": [
      "* \r\n",
      "* * \r\n",
      "* * * \r\n",
      "* * * * \r\n",
      "* * * * * \r\n",
      "* * * * * * \r\n"
     ]
    }
   ],
   "source": [
    "pattern1(6)"
   ]
  },
  {
   "cell_type": "code",
   "execution_count": 43,
   "id": "24847994",
   "metadata": {},
   "outputs": [
    {
     "name": "stdout",
     "output_type": "stream",
     "text": [
      "Help on function pattern1 in module __main__:\n",
      "\n",
      "pattern1(rows)\n",
      "    function to create a triangle pattern using asterik\n",
      "    you can give input as int\n",
      "\n"
     ]
    }
   ],
   "source": [
    "help(pattern1)"
   ]
  },
  {
   "cell_type": "code",
   "execution_count": 44,
   "id": "2591db64",
   "metadata": {},
   "outputs": [],
   "source": [
    "def length1(str1):\n",
    "    count = 0\n",
    "    for i in str1:\n",
    "        count = count+1\n",
    "    return count\n",
    "        "
   ]
  },
  {
   "cell_type": "code",
   "execution_count": 45,
   "id": "9057e57a",
   "metadata": {},
   "outputs": [
    {
     "data": {
      "text/plain": [
       "6"
      ]
     },
     "execution_count": 45,
     "metadata": {},
     "output_type": "execute_result"
    }
   ],
   "source": [
    "length1(\"kishan\")"
   ]
  },
  {
   "cell_type": "code",
   "execution_count": 46,
   "id": "ad34ef23",
   "metadata": {},
   "outputs": [],
   "source": [
    "def index_print(l):\n",
    "    l1=[]\n",
    "    for i in l:\n",
    "        a = \"Index of \" + str(i) + \" is \" + str(l.index(i))\n",
    "        l1.append(a)\n",
    "    return l1"
   ]
  },
  {
   "cell_type": "code",
   "execution_count": 47,
   "id": "b246700a",
   "metadata": {},
   "outputs": [
    {
     "data": {
      "text/plain": [
       "['Index of 5 is 0',\n",
       " 'Index of 6 is 1',\n",
       " 'Index of 7 is 2',\n",
       " 'Index of 6 is 1',\n",
       " 'Index of a is 4',\n",
       " 'Index of nh is 5',\n",
       " 'Index of j is 6']"
      ]
     },
     "execution_count": 47,
     "metadata": {},
     "output_type": "execute_result"
    }
   ],
   "source": [
    "index_print([5,6,7,6,\"a\",\"nh\",\"j\"])"
   ]
  },
  {
   "cell_type": "code",
   "execution_count": 48,
   "id": "9041fd24",
   "metadata": {},
   "outputs": [],
   "source": [
    "def extract_dict(d):\n",
    "    l1=[]\n",
    "    def recurse(inner_dict):\n",
    "        for i in inner_dict.values():\n",
    "            if isinstance(i, dict):\n",
    "                recurse(i)\n",
    "            else:\n",
    "                l1.append(i)\n",
    "    recurse(d)\n",
    "    return l1"
   ]
  },
  {
   "cell_type": "code",
   "execution_count": 49,
   "id": "4e84bfda",
   "metadata": {},
   "outputs": [],
   "source": [
    "d ={'kish': 1, 'lal':2, 'a':{'g': 3, 'h':4, 'j':{'k':5,'l':6,'m':{'n':7,'o':8}}}}"
   ]
  },
  {
   "cell_type": "code",
   "execution_count": 50,
   "id": "b1d567c7",
   "metadata": {},
   "outputs": [
    {
     "data": {
      "text/plain": [
       "[1, 2, 3, 4, 5, 6, 7, 8]"
      ]
     },
     "execution_count": 50,
     "metadata": {},
     "output_type": "execute_result"
    }
   ],
   "source": [
    "extract_dict(d)"
   ]
  }
 ],
 "metadata": {
  "kernelspec": {
   "display_name": "Python 3 (ipykernel)",
   "language": "python",
   "name": "python3"
  },
  "language_info": {
   "codemirror_mode": {
    "name": "ipython",
    "version": 3
   },
   "file_extension": ".py",
   "mimetype": "text/x-python",
   "name": "python",
   "nbconvert_exporter": "python",
   "pygments_lexer": "ipython3",
   "version": "3.11.4"
  }
 },
 "nbformat": 4,
 "nbformat_minor": 5
}
